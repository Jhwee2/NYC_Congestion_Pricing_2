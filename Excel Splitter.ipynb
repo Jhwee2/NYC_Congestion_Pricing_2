{
 "cells": [
  {
   "cell_type": "code",
   "execution_count": 1,
   "metadata": {},
   "outputs": [],
   "source": [
    "import pandas as pd, matplotlib.pyplot as plt, os"
   ]
  },
  {
   "cell_type": "code",
   "execution_count": 4,
   "metadata": {},
   "outputs": [
    {
     "name": "stdout",
     "output_type": "stream",
     "text": [
      "Created file: Routes\\Brooklyn_to_Flushing.xlsx\n",
      "Created file: Routes\\Flushing_to_Brooklyn.xlsx\n",
      "Created file: Routes\\Flushing_to_Manhattan.xlsx\n",
      "Created file: Routes\\Manhattan_to_Flushing.xlsx\n",
      "Created file: Routes\\Brooklyn_to_Manhattan.xlsx\n",
      "Created file: Routes\\Manhattan_to_Brooklyn.xlsx\n",
      "Created file: Routes\\Freshmeadows_to_Brooklyn.xlsx\n",
      "Created file: Routes\\Brooklyn_to_Freshmeadows.xlsx\n",
      "Excel files for each unique route have been created in the 'Routes' folder.\n"
     ]
    }
   ],
   "source": [
    "# Load the dataset (adjust file_path to your file's location)\n",
    "file_path = 'NYC Congestion Pricing Sheet.xlsx'  # Replace with your file path\n",
    "data = pd.read_excel(file_path)\n",
    "\n",
    "# List of unique routes\n",
    "unique_routes = [\n",
    "    \"Brooklyn to Flushing\",\n",
    "    \"Flushing to Brooklyn\",\n",
    "    \"Flushing to Manhattan\",\n",
    "    \"Manhattan to Flushing\",\n",
    "    \"Brooklyn to Manhattan\",\n",
    "    \"Manhattan to Brooklyn\",\n",
    "    \"Freshmeadows to Brooklyn\",\n",
    "    \"Brooklyn to Freshmeadows\"\n",
    "]\n",
    "\n",
    "# Create a folder named \"Routes\" if it doesn't exist\n",
    "output_folder = \"Routes\"\n",
    "os.makedirs(output_folder, exist_ok=True)\n",
    "\n",
    "# Iterate over each route and create a separate Excel file\n",
    "for route in unique_routes:\n",
    "    # Filter data for the specific route\n",
    "    route_data = data[data['Route Name'] == route]\n",
    "    \n",
    "    # Define the output file name and path\n",
    "    output_filename = f\"{route.replace(' ', '_')}.xlsx\"\n",
    "    output_path = os.path.join(output_folder, output_filename)\n",
    "    \n",
    "    # Save the filtered data to a new Excel file\n",
    "    route_data.to_excel(output_path, index=False)\n",
    "    print(f\"Created file: {output_path}\")\n",
    "\n",
    "print(\"Excel files for each unique route have been created in the 'Routes' folder.\")\n"
   ]
  }
 ],
 "metadata": {
  "kernelspec": {
   "display_name": ".venv",
   "language": "python",
   "name": "python3"
  },
  "language_info": {
   "codemirror_mode": {
    "name": "ipython",
    "version": 3
   },
   "file_extension": ".py",
   "mimetype": "text/x-python",
   "name": "python",
   "nbconvert_exporter": "python",
   "pygments_lexer": "ipython3",
   "version": "3.13.1"
  }
 },
 "nbformat": 4,
 "nbformat_minor": 2
}
